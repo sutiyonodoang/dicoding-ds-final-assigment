{
 "cells": [
  {
   "cell_type": "markdown",
   "metadata": {
    "id": "H9wADwK78DCz"
   },
   "source": [
    "# Proyek Analisis Data: [E-commerce Public Dataset]\n",
    "- **Nama:** Sutiyono\n",
    "- **Email:** sutiyonodoang@gmail.com\n",
    "- **ID Dicoding:** tiyo"
   ]
  },
  {
   "cell_type": "markdown",
   "metadata": {
    "id": "eE0raob58DC0"
   },
   "source": [
    "## Menentukan Pertanyaan Bisnis"
   ]
  },
  {
   "cell_type": "markdown",
   "metadata": {
    "id": "GmQeQ5YF8DC0"
   },
   "source": [
    "- Berapa jumlah tren order dari waktu ke waktu, dalam satuan bulan?\n",
    "- 10 state/negara teratas dengan jumlah order terbanyak pada rentang waktu tertentu? \n",
    "- Pada jam berapa dan hari apa saja terjadi lonjakan jumlah pesanan? (Peak ordering time)"
   ]
  },
  {
   "cell_type": "markdown",
   "metadata": {
    "id": "H-z4QGlO8DC1"
   },
   "source": [
    "## Import Semua Packages/Library yang Digunakan"
   ]
  },
  {
   "cell_type": "code",
   "execution_count": 355,
   "metadata": {
    "id": "FVYwaObI8DC1"
   },
   "outputs": [],
   "source": [
    "import pandas as pd\n",
    "import matplotlib.pyplot as plt\n",
    "import seaborn as sns\n"
   ]
  },
  {
   "cell_type": "markdown",
   "metadata": {
    "id": "h_Sh51Xy8DC1"
   },
   "source": [
    "## Data Wrangling"
   ]
  },
  {
   "cell_type": "markdown",
   "metadata": {
    "id": "sXU2GBYu8DC1"
   },
   "source": [
    "### Gathering Data\n",
    "\n",
    "Dataset yang saya gunakan adalah e-commerce public dataset. Berdasarkan pertanyaan bisnis diatas, maka hanya beberapa file csv saja yang akan digunakan, yaitu `orders_dataset.csv` dan `customers_dataset.csv`\n"
   ]
  },
  {
   "cell_type": "markdown",
   "metadata": {},
   "source": [
    "#### Loading orders dataset"
   ]
  },
  {
   "cell_type": "code",
   "execution_count": 356,
   "metadata": {
    "id": "zjCBk1BI8DC1"
   },
   "outputs": [
    {
     "data": {
      "text/html": [
       "<div>\n",
       "<style scoped>\n",
       "    .dataframe tbody tr th:only-of-type {\n",
       "        vertical-align: middle;\n",
       "    }\n",
       "\n",
       "    .dataframe tbody tr th {\n",
       "        vertical-align: top;\n",
       "    }\n",
       "\n",
       "    .dataframe thead th {\n",
       "        text-align: right;\n",
       "    }\n",
       "</style>\n",
       "<table border=\"1\" class=\"dataframe\">\n",
       "  <thead>\n",
       "    <tr style=\"text-align: right;\">\n",
       "      <th></th>\n",
       "      <th>order_id</th>\n",
       "      <th>customer_id</th>\n",
       "      <th>order_status</th>\n",
       "      <th>order_purchase_timestamp</th>\n",
       "      <th>order_approved_at</th>\n",
       "      <th>order_delivered_carrier_date</th>\n",
       "      <th>order_delivered_customer_date</th>\n",
       "      <th>order_estimated_delivery_date</th>\n",
       "    </tr>\n",
       "  </thead>\n",
       "  <tbody>\n",
       "    <tr>\n",
       "      <th>0</th>\n",
       "      <td>e481f51cbdc54678b7cc49136f2d6af7</td>\n",
       "      <td>9ef432eb6251297304e76186b10a928d</td>\n",
       "      <td>delivered</td>\n",
       "      <td>2017-10-02 10:56:33</td>\n",
       "      <td>2017-10-02 11:07:15</td>\n",
       "      <td>2017-10-04 19:55:00</td>\n",
       "      <td>2017-10-10 21:25:13</td>\n",
       "      <td>2017-10-18 00:00:00</td>\n",
       "    </tr>\n",
       "    <tr>\n",
       "      <th>1</th>\n",
       "      <td>53cdb2fc8bc7dce0b6741e2150273451</td>\n",
       "      <td>b0830fb4747a6c6d20dea0b8c802d7ef</td>\n",
       "      <td>delivered</td>\n",
       "      <td>2018-07-24 20:41:37</td>\n",
       "      <td>2018-07-26 03:24:27</td>\n",
       "      <td>2018-07-26 14:31:00</td>\n",
       "      <td>2018-08-07 15:27:45</td>\n",
       "      <td>2018-08-13 00:00:00</td>\n",
       "    </tr>\n",
       "    <tr>\n",
       "      <th>2</th>\n",
       "      <td>47770eb9100c2d0c44946d9cf07ec65d</td>\n",
       "      <td>41ce2a54c0b03bf3443c3d931a367089</td>\n",
       "      <td>delivered</td>\n",
       "      <td>2018-08-08 08:38:49</td>\n",
       "      <td>2018-08-08 08:55:23</td>\n",
       "      <td>2018-08-08 13:50:00</td>\n",
       "      <td>2018-08-17 18:06:29</td>\n",
       "      <td>2018-09-04 00:00:00</td>\n",
       "    </tr>\n",
       "    <tr>\n",
       "      <th>3</th>\n",
       "      <td>949d5b44dbf5de918fe9c16f97b45f8a</td>\n",
       "      <td>f88197465ea7920adcdbec7375364d82</td>\n",
       "      <td>delivered</td>\n",
       "      <td>2017-11-18 19:28:06</td>\n",
       "      <td>2017-11-18 19:45:59</td>\n",
       "      <td>2017-11-22 13:39:59</td>\n",
       "      <td>2017-12-02 00:28:42</td>\n",
       "      <td>2017-12-15 00:00:00</td>\n",
       "    </tr>\n",
       "    <tr>\n",
       "      <th>4</th>\n",
       "      <td>ad21c59c0840e6cb83a9ceb5573f8159</td>\n",
       "      <td>8ab97904e6daea8866dbdbc4fb7aad2c</td>\n",
       "      <td>delivered</td>\n",
       "      <td>2018-02-13 21:18:39</td>\n",
       "      <td>2018-02-13 22:20:29</td>\n",
       "      <td>2018-02-14 19:46:34</td>\n",
       "      <td>2018-02-16 18:17:02</td>\n",
       "      <td>2018-02-26 00:00:00</td>\n",
       "    </tr>\n",
       "  </tbody>\n",
       "</table>\n",
       "</div>"
      ],
      "text/plain": [
       "                           order_id                       customer_id  \\\n",
       "0  e481f51cbdc54678b7cc49136f2d6af7  9ef432eb6251297304e76186b10a928d   \n",
       "1  53cdb2fc8bc7dce0b6741e2150273451  b0830fb4747a6c6d20dea0b8c802d7ef   \n",
       "2  47770eb9100c2d0c44946d9cf07ec65d  41ce2a54c0b03bf3443c3d931a367089   \n",
       "3  949d5b44dbf5de918fe9c16f97b45f8a  f88197465ea7920adcdbec7375364d82   \n",
       "4  ad21c59c0840e6cb83a9ceb5573f8159  8ab97904e6daea8866dbdbc4fb7aad2c   \n",
       "\n",
       "  order_status order_purchase_timestamp    order_approved_at  \\\n",
       "0    delivered      2017-10-02 10:56:33  2017-10-02 11:07:15   \n",
       "1    delivered      2018-07-24 20:41:37  2018-07-26 03:24:27   \n",
       "2    delivered      2018-08-08 08:38:49  2018-08-08 08:55:23   \n",
       "3    delivered      2017-11-18 19:28:06  2017-11-18 19:45:59   \n",
       "4    delivered      2018-02-13 21:18:39  2018-02-13 22:20:29   \n",
       "\n",
       "  order_delivered_carrier_date order_delivered_customer_date  \\\n",
       "0          2017-10-04 19:55:00           2017-10-10 21:25:13   \n",
       "1          2018-07-26 14:31:00           2018-08-07 15:27:45   \n",
       "2          2018-08-08 13:50:00           2018-08-17 18:06:29   \n",
       "3          2017-11-22 13:39:59           2017-12-02 00:28:42   \n",
       "4          2018-02-14 19:46:34           2018-02-16 18:17:02   \n",
       "\n",
       "  order_estimated_delivery_date  \n",
       "0           2017-10-18 00:00:00  \n",
       "1           2018-08-13 00:00:00  \n",
       "2           2018-09-04 00:00:00  \n",
       "3           2017-12-15 00:00:00  \n",
       "4           2018-02-26 00:00:00  "
      ]
     },
     "execution_count": 356,
     "metadata": {},
     "output_type": "execute_result"
    }
   ],
   "source": [
    "# loading dataset orders & customers\n",
    "# Karena yang akan kita lihat adalah jumlah order, \n",
    "# maka saya memutuskan untuk menghitung order dengan status delivered, \n",
    "# dengan alasan bahwa jumlah order yang akan dihitung merupakan jumlah order yang memang sudah pasti selesai.\n",
    "# Orders dataset ini akan digunakan untuk menjawab soal nomor 1 dan 3.\n",
    "\n",
    "orders_df = pd.read_csv('orders_dataset.csv')\n",
    "orders_df = orders_df[orders_df['order_status'] == 'delivered']\n",
    "orders_df.head()\n"
   ]
  },
  {
   "cell_type": "markdown",
   "metadata": {},
   "source": [
    "#### Loading customers dataset"
   ]
  },
  {
   "cell_type": "code",
   "execution_count": 357,
   "metadata": {},
   "outputs": [
    {
     "data": {
      "text/html": [
       "<div>\n",
       "<style scoped>\n",
       "    .dataframe tbody tr th:only-of-type {\n",
       "        vertical-align: middle;\n",
       "    }\n",
       "\n",
       "    .dataframe tbody tr th {\n",
       "        vertical-align: top;\n",
       "    }\n",
       "\n",
       "    .dataframe thead th {\n",
       "        text-align: right;\n",
       "    }\n",
       "</style>\n",
       "<table border=\"1\" class=\"dataframe\">\n",
       "  <thead>\n",
       "    <tr style=\"text-align: right;\">\n",
       "      <th></th>\n",
       "      <th>customer_id</th>\n",
       "      <th>customer_unique_id</th>\n",
       "      <th>customer_zip_code_prefix</th>\n",
       "      <th>customer_city</th>\n",
       "      <th>customer_state</th>\n",
       "    </tr>\n",
       "  </thead>\n",
       "  <tbody>\n",
       "    <tr>\n",
       "      <th>0</th>\n",
       "      <td>06b8999e2fba1a1fbc88172c00ba8bc7</td>\n",
       "      <td>861eff4711a542e4b93843c6dd7febb0</td>\n",
       "      <td>14409</td>\n",
       "      <td>franca</td>\n",
       "      <td>SP</td>\n",
       "    </tr>\n",
       "    <tr>\n",
       "      <th>1</th>\n",
       "      <td>18955e83d337fd6b2def6b18a428ac77</td>\n",
       "      <td>290c77bc529b7ac935b93aa66c333dc3</td>\n",
       "      <td>9790</td>\n",
       "      <td>sao bernardo do campo</td>\n",
       "      <td>SP</td>\n",
       "    </tr>\n",
       "    <tr>\n",
       "      <th>2</th>\n",
       "      <td>4e7b3e00288586ebd08712fdd0374a03</td>\n",
       "      <td>060e732b5b29e8181a18229c7b0b2b5e</td>\n",
       "      <td>1151</td>\n",
       "      <td>sao paulo</td>\n",
       "      <td>SP</td>\n",
       "    </tr>\n",
       "    <tr>\n",
       "      <th>3</th>\n",
       "      <td>b2b6027bc5c5109e529d4dc6358b12c3</td>\n",
       "      <td>259dac757896d24d7702b9acbbff3f3c</td>\n",
       "      <td>8775</td>\n",
       "      <td>mogi das cruzes</td>\n",
       "      <td>SP</td>\n",
       "    </tr>\n",
       "    <tr>\n",
       "      <th>4</th>\n",
       "      <td>4f2d8ab171c80ec8364f7c12e35b23ad</td>\n",
       "      <td>345ecd01c38d18a9036ed96c73b8d066</td>\n",
       "      <td>13056</td>\n",
       "      <td>campinas</td>\n",
       "      <td>SP</td>\n",
       "    </tr>\n",
       "  </tbody>\n",
       "</table>\n",
       "</div>"
      ],
      "text/plain": [
       "                        customer_id                customer_unique_id  \\\n",
       "0  06b8999e2fba1a1fbc88172c00ba8bc7  861eff4711a542e4b93843c6dd7febb0   \n",
       "1  18955e83d337fd6b2def6b18a428ac77  290c77bc529b7ac935b93aa66c333dc3   \n",
       "2  4e7b3e00288586ebd08712fdd0374a03  060e732b5b29e8181a18229c7b0b2b5e   \n",
       "3  b2b6027bc5c5109e529d4dc6358b12c3  259dac757896d24d7702b9acbbff3f3c   \n",
       "4  4f2d8ab171c80ec8364f7c12e35b23ad  345ecd01c38d18a9036ed96c73b8d066   \n",
       "\n",
       "   customer_zip_code_prefix          customer_city customer_state  \n",
       "0                     14409                 franca             SP  \n",
       "1                      9790  sao bernardo do campo             SP  \n",
       "2                      1151              sao paulo             SP  \n",
       "3                      8775        mogi das cruzes             SP  \n",
       "4                     13056               campinas             SP  "
      ]
     },
     "execution_count": 357,
     "metadata": {},
     "output_type": "execute_result"
    }
   ],
   "source": [
    "# customers dataset\n",
    "customers_df = pd.read_csv('customers_dataset.csv')\n",
    "customers_df.head()\n"
   ]
  },
  {
   "cell_type": "markdown",
   "metadata": {
    "id": "FHSiqaZp8DC1"
   },
   "source": [
    "### Assessing Data"
   ]
  },
  {
   "cell_type": "markdown",
   "metadata": {},
   "source": [
    "#### Orders dataset"
   ]
  },
  {
   "cell_type": "code",
   "execution_count": 358,
   "metadata": {
    "id": "ax-3tEjc9Cj1"
   },
   "outputs": [
    {
     "name": "stdout",
     "output_type": "stream",
     "text": [
      "<class 'pandas.core.frame.DataFrame'>\n",
      "Int64Index: 96478 entries, 0 to 99440\n",
      "Data columns (total 8 columns):\n",
      " #   Column                         Non-Null Count  Dtype \n",
      "---  ------                         --------------  ----- \n",
      " 0   order_id                       96478 non-null  object\n",
      " 1   customer_id                    96478 non-null  object\n",
      " 2   order_status                   96478 non-null  object\n",
      " 3   order_purchase_timestamp       96478 non-null  object\n",
      " 4   order_approved_at              96464 non-null  object\n",
      " 5   order_delivered_carrier_date   96476 non-null  object\n",
      " 6   order_delivered_customer_date  96470 non-null  object\n",
      " 7   order_estimated_delivery_date  96478 non-null  object\n",
      "dtypes: object(8)\n",
      "memory usage: 6.6+ MB\n"
     ]
    }
   ],
   "source": [
    "# melihat informasi struktur data pada order dataset\n",
    "orders_df.info()"
   ]
  },
  {
   "cell_type": "code",
   "execution_count": 359,
   "metadata": {},
   "outputs": [
    {
     "name": "stdout",
     "output_type": "stream",
     "text": [
      "Data null pada tabel orders:\n",
      "  order_id                          0\n",
      "customer_id                       0\n",
      "order_status                      0\n",
      "order_purchase_timestamp          0\n",
      "order_approved_at                14\n",
      "order_delivered_carrier_date      2\n",
      "order_delivered_customer_date     8\n",
      "order_estimated_delivery_date     0\n",
      "dtype: int64 \n",
      "\n",
      "\n"
     ]
    }
   ],
   "source": [
    "# menampilkan jumlah data yang null/kosong pada order dataset\n",
    "print('Data null pada tabel orders:\\n ', orders_df.isna().sum(), '\\n\\n')"
   ]
  },
  {
   "cell_type": "code",
   "execution_count": 360,
   "metadata": {},
   "outputs": [
    {
     "name": "stdout",
     "output_type": "stream",
     "text": [
      "Jumlah data duplikat: 0\n"
     ]
    }
   ],
   "source": [
    "# melihat jumlah data yang duplikat pada order dataset\n",
    "print('Jumlah data duplikat:', orders_df.duplicated().sum())"
   ]
  },
  {
   "cell_type": "markdown",
   "metadata": {},
   "source": [
    "#### Customers dataset"
   ]
  },
  {
   "cell_type": "code",
   "execution_count": 361,
   "metadata": {},
   "outputs": [
    {
     "name": "stdout",
     "output_type": "stream",
     "text": [
      "<class 'pandas.core.frame.DataFrame'>\n",
      "RangeIndex: 99441 entries, 0 to 99440\n",
      "Data columns (total 5 columns):\n",
      " #   Column                    Non-Null Count  Dtype \n",
      "---  ------                    --------------  ----- \n",
      " 0   customer_id               99441 non-null  object\n",
      " 1   customer_unique_id        99441 non-null  object\n",
      " 2   customer_zip_code_prefix  99441 non-null  int64 \n",
      " 3   customer_city             99441 non-null  object\n",
      " 4   customer_state            99441 non-null  object\n",
      "dtypes: int64(1), object(4)\n",
      "memory usage: 3.8+ MB\n"
     ]
    }
   ],
   "source": [
    "# melihat informasi struktur data pada customer dataset\n",
    "customers_df.info()"
   ]
  },
  {
   "cell_type": "code",
   "execution_count": 362,
   "metadata": {},
   "outputs": [
    {
     "name": "stdout",
     "output_type": "stream",
     "text": [
      "Data null pada tabel orders:\n",
      "  customer_id                 0\n",
      "customer_unique_id          0\n",
      "customer_zip_code_prefix    0\n",
      "customer_city               0\n",
      "customer_state              0\n",
      "dtype: int64 \n",
      "\n",
      "\n"
     ]
    }
   ],
   "source": [
    "# menampilkan jumlah data yang null/kosong pada customer dataset\n",
    "print('Data null pada tabel orders:\\n ',customers_df.isna().sum(), '\\n\\n')"
   ]
  },
  {
   "cell_type": "code",
   "execution_count": 363,
   "metadata": {},
   "outputs": [
    {
     "name": "stdout",
     "output_type": "stream",
     "text": [
      "Tabel customers: 0\n"
     ]
    }
   ],
   "source": [
    "# melihat jumlah data yang duplikat pada order dataset\n",
    "print('Tabel customers:', customers_df.duplicated().sum())"
   ]
  },
  {
   "cell_type": "markdown",
   "metadata": {
    "id": "EhN5R4hr8DC1"
   },
   "source": [
    "### Cleaning Data"
   ]
  },
  {
   "cell_type": "markdown",
   "metadata": {
    "id": "jVnYpprE9Evz"
   },
   "source": [
    "#### Membersihkan tabel `orders_df`\n",
    "- cek duplikat data --> jumlah data duplikat 0, sehingga data sudah bagus\n",
    "- cek missing value --> saya hilangkan saja, karena jumlahnya yang tidak signifikan\n",
    "- cek type data --> Beberapa kolom belum sesuai, sehingga perlu dirubah. Berdasarkan temuan, bahwa kolom `order_purchase_timestamp`, `order_approved_at`, `order_delivered_carrier_date`, `order_delivered_customer_date`, `order_estimated_delivery_date` seharusnya bertipe `datetime`, bukan `object`, sehingga perlu disesuaikan\n",
    "- untuk menjawab pertanyaan nomor 3, kita perlu meng-ekstrak jam dan hari dari kolom order_purchase_timestamp"
   ]
  },
  {
   "cell_type": "code",
   "execution_count": 364,
   "metadata": {},
   "outputs": [
    {
     "name": "stdout",
     "output_type": "stream",
     "text": [
      "Jumlah data duplikat pada order dataset:  0\n"
     ]
    }
   ],
   "source": [
    "# cek duplikat data pada order dataset, jika ada maka data akan dihapus\n",
    "print(\"Jumlah data duplikat pada order dataset: \", orders_df.duplicated().sum())"
   ]
  },
  {
   "cell_type": "code",
   "execution_count": 365,
   "metadata": {
    "scrolled": false
   },
   "outputs": [
    {
     "name": "stdout",
     "output_type": "stream",
     "text": [
      "order_id                          0\n",
      "customer_id                       0\n",
      "order_status                      0\n",
      "order_purchase_timestamp          0\n",
      "order_approved_at                14\n",
      "order_delivered_carrier_date      2\n",
      "order_delivered_customer_date     8\n",
      "order_estimated_delivery_date     0\n",
      "dtype: int64\n"
     ]
    }
   ],
   "source": [
    "# cek jumlah missing value pada order dataset sebelum dihapus\n",
    "print(orders_df.isna().sum())"
   ]
  },
  {
   "cell_type": "code",
   "execution_count": 366,
   "metadata": {},
   "outputs": [
    {
     "name": "stdout",
     "output_type": "stream",
     "text": [
      "order_id                         0\n",
      "customer_id                      0\n",
      "order_status                     0\n",
      "order_purchase_timestamp         0\n",
      "order_approved_at                0\n",
      "order_delivered_carrier_date     0\n",
      "order_delivered_customer_date    0\n",
      "order_estimated_delivery_date    0\n",
      "dtype: int64\n"
     ]
    }
   ],
   "source": [
    "# Menghapus semua kolom yang memiliki missing value, dengan pertimbangan yang sudah disampaikan diatas.\n",
    "orders_df = orders_df.dropna(subset=['order_approved_at', 'order_delivered_carrier_date', 'order_delivered_customer_date'])\n",
    "print(orders_df.isna().sum())"
   ]
  },
  {
   "cell_type": "code",
   "execution_count": 367,
   "metadata": {},
   "outputs": [
    {
     "name": "stdout",
     "output_type": "stream",
     "text": [
      "<class 'pandas.core.frame.DataFrame'>\n",
      "Int64Index: 96455 entries, 0 to 99440\n",
      "Data columns (total 8 columns):\n",
      " #   Column                         Non-Null Count  Dtype \n",
      "---  ------                         --------------  ----- \n",
      " 0   order_id                       96455 non-null  object\n",
      " 1   customer_id                    96455 non-null  object\n",
      " 2   order_status                   96455 non-null  object\n",
      " 3   order_purchase_timestamp       96455 non-null  object\n",
      " 4   order_approved_at              96455 non-null  object\n",
      " 5   order_delivered_carrier_date   96455 non-null  object\n",
      " 6   order_delivered_customer_date  96455 non-null  object\n",
      " 7   order_estimated_delivery_date  96455 non-null  object\n",
      "dtypes: object(8)\n",
      "memory usage: 6.6+ MB\n",
      "None\n",
      "<class 'pandas.core.frame.DataFrame'>\n",
      "Int64Index: 96455 entries, 0 to 99440\n",
      "Data columns (total 8 columns):\n",
      " #   Column                         Non-Null Count  Dtype         \n",
      "---  ------                         --------------  -----         \n",
      " 0   order_id                       96455 non-null  object        \n",
      " 1   customer_id                    96455 non-null  object        \n",
      " 2   order_status                   96455 non-null  object        \n",
      " 3   order_purchase_timestamp       96455 non-null  datetime64[ns]\n",
      " 4   order_approved_at              96455 non-null  datetime64[ns]\n",
      " 5   order_delivered_carrier_date   96455 non-null  datetime64[ns]\n",
      " 6   order_delivered_customer_date  96455 non-null  datetime64[ns]\n",
      " 7   order_estimated_delivery_date  96455 non-null  datetime64[ns]\n",
      "dtypes: datetime64[ns](5), object(3)\n",
      "memory usage: 6.6+ MB\n",
      "None\n",
      "<class 'pandas.core.frame.DataFrame'>\n",
      "Int64Index: 96455 entries, 0 to 99440\n",
      "Data columns (total 10 columns):\n",
      " #   Column                         Non-Null Count  Dtype         \n",
      "---  ------                         --------------  -----         \n",
      " 0   order_id                       96455 non-null  object        \n",
      " 1   customer_id                    96455 non-null  object        \n",
      " 2   order_status                   96455 non-null  object        \n",
      " 3   order_purchase_timestamp       96455 non-null  datetime64[ns]\n",
      " 4   order_approved_at              96455 non-null  datetime64[ns]\n",
      " 5   order_delivered_carrier_date   96455 non-null  datetime64[ns]\n",
      " 6   order_delivered_customer_date  96455 non-null  datetime64[ns]\n",
      " 7   order_estimated_delivery_date  96455 non-null  datetime64[ns]\n",
      " 8   order_hour                     96455 non-null  int64         \n",
      " 9   order_dayofweek                96455 non-null  int64         \n",
      "dtypes: datetime64[ns](5), int64(2), object(3)\n",
      "memory usage: 8.1+ MB\n",
      "None\n"
     ]
    }
   ],
   "source": [
    "# cek informasi type data pada order dataset\n",
    "print(orders_df.info())\n",
    "\n",
    "# Merubah type data pada kolom tertentu, dari object menjadi datetime\n",
    "datetime_columns = [\"order_purchase_timestamp\", \n",
    "                    \"order_approved_at\", \n",
    "                    \"order_delivered_carrier_date\", \n",
    "                    \"order_delivered_customer_date\", \n",
    "                    \"order_estimated_delivery_date\"]\n",
    "\n",
    "for column in datetime_columns:\n",
    "    orders_df[column] = pd.to_datetime(orders_df[column])\n",
    "\n",
    "print(orders_df.info())\n",
    "\n",
    "# extrak jam dan hari dari kolom order_purchase_timestamp kedalam kolom order_hour dan order_dayofweek\n",
    "orders_df['order_hour'] = orders_df['order_purchase_timestamp'].dt.hour\n",
    "orders_df['order_dayofweek'] = orders_df['order_purchase_timestamp'].dt.dayofweek\n",
    "print(orders_df.info())\n"
   ]
  },
  {
   "cell_type": "markdown",
   "metadata": {},
   "source": [
    "#### Membersihkan tabel `customers_df`\n",
    "\n",
    "- cek duplikat data --> jumlah data duplikat 0, sehingga data sudah bagus\n",
    "- cek missing value --> tidak ada missing value\n",
    "- cek type data --> sudah sesuai\n",
    "- pada customer dataset ditak ada yang dilakukan untuk proses data cleaning, karena data sudah sesuai"
   ]
  },
  {
   "cell_type": "code",
   "execution_count": 368,
   "metadata": {},
   "outputs": [
    {
     "name": "stdout",
     "output_type": "stream",
     "text": [
      "Jumlah data duplikat pada customer dataset:  0\n"
     ]
    }
   ],
   "source": [
    "# cek duplikat data pada customer dataset, jika ada maka data akan dihapus\n",
    "print(\"Jumlah data duplikat pada customer dataset: \", customers_df.duplicated().sum())"
   ]
  },
  {
   "cell_type": "code",
   "execution_count": 369,
   "metadata": {},
   "outputs": [
    {
     "name": "stdout",
     "output_type": "stream",
     "text": [
      "customer_id                 0\n",
      "customer_unique_id          0\n",
      "customer_zip_code_prefix    0\n",
      "customer_city               0\n",
      "customer_state              0\n",
      "dtype: int64\n"
     ]
    }
   ],
   "source": [
    "# cek jumlah missing value pada customer dataset\n",
    "print(customers_df.isna().sum())"
   ]
  },
  {
   "cell_type": "code",
   "execution_count": 370,
   "metadata": {},
   "outputs": [
    {
     "name": "stdout",
     "output_type": "stream",
     "text": [
      "<class 'pandas.core.frame.DataFrame'>\n",
      "RangeIndex: 99441 entries, 0 to 99440\n",
      "Data columns (total 5 columns):\n",
      " #   Column                    Non-Null Count  Dtype \n",
      "---  ------                    --------------  ----- \n",
      " 0   customer_id               99441 non-null  object\n",
      " 1   customer_unique_id        99441 non-null  object\n",
      " 2   customer_zip_code_prefix  99441 non-null  int64 \n",
      " 3   customer_city             99441 non-null  object\n",
      " 4   customer_state            99441 non-null  object\n",
      "dtypes: int64(1), object(4)\n",
      "memory usage: 3.8+ MB\n",
      "None\n"
     ]
    }
   ],
   "source": [
    "# cek informasi type data pada customer dataset\n",
    "print(customers_df.info())"
   ]
  },
  {
   "cell_type": "markdown",
   "metadata": {
    "id": "gp-Y6wU38DC1"
   },
   "source": [
    "## Exploratory Data Analysis (EDA)"
   ]
  },
  {
   "cell_type": "markdown",
   "metadata": {
    "id": "MW7WF2kr8DC1"
   },
   "source": [
    "### Explore orders_df"
   ]
  },
  {
   "cell_type": "code",
   "execution_count": 371,
   "metadata": {
    "id": "e9CQCZjk8DC2"
   },
   "outputs": [
    {
     "name": "stdout",
     "output_type": "stream",
     "text": [
      "                           order_id                       customer_id  \\\n",
      "0  e481f51cbdc54678b7cc49136f2d6af7  9ef432eb6251297304e76186b10a928d   \n",
      "1  53cdb2fc8bc7dce0b6741e2150273451  b0830fb4747a6c6d20dea0b8c802d7ef   \n",
      "2  47770eb9100c2d0c44946d9cf07ec65d  41ce2a54c0b03bf3443c3d931a367089   \n",
      "3  949d5b44dbf5de918fe9c16f97b45f8a  f88197465ea7920adcdbec7375364d82   \n",
      "4  ad21c59c0840e6cb83a9ceb5573f8159  8ab97904e6daea8866dbdbc4fb7aad2c   \n",
      "\n",
      "  order_status order_purchase_timestamp   order_approved_at  \\\n",
      "0    delivered      2017-10-02 10:56:33 2017-10-02 11:07:15   \n",
      "1    delivered      2018-07-24 20:41:37 2018-07-26 03:24:27   \n",
      "2    delivered      2018-08-08 08:38:49 2018-08-08 08:55:23   \n",
      "3    delivered      2017-11-18 19:28:06 2017-11-18 19:45:59   \n",
      "4    delivered      2018-02-13 21:18:39 2018-02-13 22:20:29   \n",
      "\n",
      "  order_delivered_carrier_date order_delivered_customer_date  \\\n",
      "0          2017-10-04 19:55:00           2017-10-10 21:25:13   \n",
      "1          2018-07-26 14:31:00           2018-08-07 15:27:45   \n",
      "2          2018-08-08 13:50:00           2018-08-17 18:06:29   \n",
      "3          2017-11-22 13:39:59           2017-12-02 00:28:42   \n",
      "4          2018-02-14 19:46:34           2018-02-16 18:17:02   \n",
      "\n",
      "  order_estimated_delivery_date  order_hour  order_dayofweek  \n",
      "0                    2017-10-18          10                0  \n",
      "1                    2018-08-13          20                1  \n",
      "2                    2018-09-04           8                2  \n",
      "3                    2017-12-15          19                5  \n",
      "4                    2018-02-26          21                1  \n"
     ]
    }
   ],
   "source": [
    "# order dataset (no.1)\n",
    "print(orders_df.head())"
   ]
  },
  {
   "cell_type": "markdown",
   "metadata": {},
   "source": [
    "### Explore customers_df"
   ]
  },
  {
   "cell_type": "code",
   "execution_count": 372,
   "metadata": {},
   "outputs": [
    {
     "name": "stdout",
     "output_type": "stream",
     "text": [
      "customer_state\n",
      "SP    40488\n",
      "RJ    12348\n",
      "MG    11351\n",
      "RS     5342\n",
      "PR     4923\n",
      "SC     3546\n",
      "BA     3256\n",
      "DF     2080\n",
      "ES     1995\n",
      "GO     1957\n",
      "Name: order_id, dtype: int64\n"
     ]
    }
   ],
   "source": [
    "# Data yang dibutuhkan perlu adanya penggabungan/join antara order dataset dengan customer dataset,\n",
    "# Berikut adalah code join-nya\n",
    "orders_customers_df = pd.merge(\n",
    "    left=orders_df,\n",
    "    right=customers_df,\n",
    "    how=\"left\",\n",
    "    left_on=\"customer_id\",\n",
    "    right_on=\"customer_id\"\n",
    ")\n",
    "top10_orderByState = orders_customers_df.groupby(by=\"customer_state\").order_id.nunique().sort_values(ascending=False).head(10)\n",
    "# top10_orderByState.index.name = 'state'\n",
    "\n",
    "print(top10_orderByState)"
   ]
  },
  {
   "cell_type": "markdown",
   "metadata": {
    "id": "zsyZjqak8DC2"
   },
   "source": [
    "## Visualization & Explanatory Analysis"
   ]
  },
  {
   "cell_type": "markdown",
   "metadata": {
    "id": "HZxOiQ6n8DC2"
   },
   "source": [
    "### Pertanyaan 1: Berapa jumlah tren order dari waktu ke waktu?"
   ]
  },
  {
   "cell_type": "code",
   "execution_count": 373,
   "metadata": {
    "id": "1swJUdAD8DC2"
   },
   "outputs": [
    {
     "data": {
      "image/png": "[encoded data removed]",
      "text/plain": [
       "<Figure size 864x432 with 1 Axes>"
      ]
     },
     "metadata": {
      "needs_background": "light"
     },
     "output_type": "display_data"
    }
   ],
   "source": [
    "df = orders_df\n",
    "\n",
    "# Mengubah kolom order_purchase_timestamp ke dalam format datetime\n",
    "df['order_purchase_timestamp'] = pd.to_datetime(df['order_purchase_timestamp'])\n",
    "\n",
    "# Mengelompokkan data berdasarkan bulan dan menghitung jumlah pesanan tiap bulan\n",
    "monthly_orders = df.resample('M', on='order_purchase_timestamp').size()\n",
    "\n",
    "# Membuat plot tren jumlah pesanan\n",
    "plt.figure(figsize=(12, 6))\n",
    "plt.plot(monthly_orders, marker='o', linestyle='-', color='b')\n",
    "plt.title('Tren Jumlah Pesanan per Bulan')\n",
    "plt.xlabel('Bulan')\n",
    "plt.ylabel('Jumlah Pesanan')\n",
    "plt.grid(True)\n",
    "plt.show()\n"
   ]
  },
  {
   "cell_type": "markdown",
   "metadata": {
    "id": "DgHI7CiU8DC2"
   },
   "source": [
    "### Pertanyaan 2: 10 state/negara teratas dengan jumlah order terbanyak pada rentang waktu tertentu? "
   ]
  },
  {
   "cell_type": "code",
   "execution_count": 374,
   "metadata": {
    "id": "Go0lCsvO8DC2"
   },
   "outputs": [
    {
     "data": {
      "image/png": "[encoded data removed]",
      "text/plain": [
       "<Figure size 864x432 with 1 Axes>"
      ]
     },
     "metadata": {
      "needs_background": "light"
     },
     "output_type": "display_data"
    }
   ],
   "source": [
    "# Membuat visualisasi 10 state dengan jumlah order terbanyak\n",
    "plt.figure(figsize=(12, 6))\n",
    "top10_orderByState.plot(kind='bar', color='skyblue')\n",
    "plt.xlabel('State')\n",
    "plt.ylabel('Jumlah Order Unik')\n",
    "plt.title('Top 10 States dengan Jumlah Order Terbanyak')\n",
    "plt.xticks(rotation=45, ha='right')  # Rotasi label agar lebih mudah dibaca\n",
    "plt.show()"
   ]
  },
  {
   "cell_type": "markdown",
   "metadata": {},
   "source": [
    "### Pertanyaan 3: Pada jam berapa dan hari apa saja terjadi lonjakan jumlah pesanan? (Peak ordering time)"
   ]
  },
  {
   "cell_type": "code",
   "execution_count": 375,
   "metadata": {},
   "outputs": [
    {
     "data": {
      "image/png": "[encoded data removed]",
      "text/plain": [
       "<Figure size 864x576 with 2 Axes>"
      ]
     },
     "metadata": {
      "needs_background": "light"
     },
     "output_type": "display_data"
    }
   ],
   "source": [
    "# Menghitung jumlah pesanan setiap jam pada setiap hari\n",
    "order_heatmap_data = df.pivot_table(index='order_hour', columns='order_dayofweek', values='order_id', aggfunc='count')\n",
    "\n",
    "# Membuat heatmap\n",
    "plt.figure(figsize=(12, 8))\n",
    "sns.heatmap(order_heatmap_data, cmap='viridis', annot=True, fmt='g', linewidths=.5)\n",
    "plt.title('Peak Ordering Time Heatmap')\n",
    "plt.xlabel('Hari dalam Seminggu')\n",
    "plt.ylabel('Jam dalam Sehari')\n",
    "plt.show()"
   ]
  },
  {
   "cell_type": "markdown",
   "metadata": {
    "id": "_WeHlCeX8DC2"
   },
   "source": [
    "## Conclusion"
   ]
  },
  {
   "cell_type": "markdown",
   "metadata": {
    "id": "ZTcyR48Y8DC2"
   },
   "source": [
    "#### Pertanyaan 1\n",
    "Berdasarkan pada line graph yang didapat, maka didapat beberapa kesimpulan sebagai berikut:\n",
    "- Tahun 2016 hanya ada 3 bulan data, tren jumlah order menurun, namun tidak signifikan.\n",
    "- Tahun 2017 mengalami tren kenaikan yang sangat signifikan dari bulan ke bulannya, walaupun ada bulan (yaitu bulan 5, 7, dan 10) dimana jumlah order mengalami penurunan tapi tidak signifikan jika dibanding dengan kenaikan bulan-bulan yang lain.\n",
    "- Tahun 2018 diawali dengan penurunan jumlah order kurang lebih setengahnya dari jumlah kenaikan bulan sebelumnya. 10 bulan bejalan mengalami kenaikan jumlah order, tapi tidak se ekxtrim pada tahun 2017\n",
    "- kenaikan paling tinggi selama periode data adalah pada periode desember 2017, sementara penurunan jumlah order berada pada bulan berikutnya, yaitu januari 2018"
   ]
  },
  {
   "cell_type": "markdown",
   "metadata": {},
   "source": [
    "#### Pertanyaan 2\n",
    "Berdasarkan pada grafik column yang didapat, maka didapat beberapa kesimpulan sebagai berikut:\n",
    "- Dari grafik terlihat bahwa terdapat satu state yang mendominasi jumlah order, yaitu SP. Jumlah order di SP sangat signifikan dibandingkan state lainnya. Ini menunjukkan adanya sentralisasi aktivitas bisnis atau populasi di area tersebut.\n",
    "- 9 State yang lainya memiliki perbedaan jumlah order yang tidak signifikan.\n",
    "- Grafik top 10 state ini mungkin memiliki pangsa pasar yang signifikan dalam konteks bisnis. Oleh karena itu, fokus pada pemasaran dan layanan pelanggan di state-state ini dapat menjadi strategi yang efektif untuk meningkatkan penjualan.\")\n",
    "- Pemahaman mengapa beberapa state memiliki jumlah order yang lebih tinggi dibandingkan dengan yang lain dapat membantu perusahaan untuk memperbaiki atau mengoptimalkan strategi kedepan.\n",
    "- Analisis lebih lanjut sangat dibutuhkan terhadap data 10 state dengan order paling banyak ini untuk bisa berstrategi lebih spesifik."
   ]
  },
  {
   "cell_type": "markdown",
   "metadata": {},
   "source": [
    "#### Pertanyaan 3\n",
    "Berdasarkan pada grafik heatmap, maka dapat diambil beberapa kesimpulan pola peak order yang terjadi sebagai berikut:\n",
    "- Jumlah order mengalami peningkatan mulai dari pukul 8, dan mulai menurun pukul 22, sementara harinya mulai dari senin hingga jumat\n",
    "- Jumlah order pada hari sabtu dan minggu cenderung stabil, berada di 60%-70% dari total order di jam dan hari paling ramai, dan mulai bertambah hinggai kisaran 80% pada minggu malam.\n",
    "- Pada pukul 10 hingga pukul 16, hari senin hingga rabu merupakan peak order paling tinggi.\n",
    "- Dengan pola order yang digambarkan pada heatmap ini kita bisa mengetahui beban layanan yang harus dipersiapkan perusahaan"
   ]
  }
 ],
 "metadata": {
  "colab": {
   "provenance": []
  },
  "kernelspec": {
   "display_name": "Python 3 (ipykernel)",
   "language": "python",
   "name": "python3"
  },
  "language_info": {
   "codemirror_mode": {
    "name": "ipython",
    "version": 3
   },
   "file_extension": ".py",
   "mimetype": "text/x-python",
   "name": "python",
   "nbconvert_exporter": "python",
   "pygments_lexer": "ipython3",
   "version": "3.9.12"
  },
  "vscode": {
   "interpreter": {
    "hash": "972b3bf27e332e87b5379f2791f6ef9dfc79c71018c370b0d7423235e20fe4d7"
   }
  }
 },
 "nbformat": 4,
 "nbformat_minor": 1
}
